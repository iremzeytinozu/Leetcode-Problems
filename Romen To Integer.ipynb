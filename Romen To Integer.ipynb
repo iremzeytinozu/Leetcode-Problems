{
  "nbformat": 4,
  "nbformat_minor": 0,
  "metadata": {
    "colab": {
      "provenance": []
    },
    "kernelspec": {
      "name": "python3",
      "display_name": "Python 3"
    },
    "language_info": {
      "name": "python"
    }
  },
  "cells": [
    {
      "cell_type": "code",
      "execution_count": null,
      "metadata": {
        "id": "QSWbKCKNC0lr"
      },
      "outputs": [],
      "source": [
        "class Solution(object):\n",
        "    def romanToInt(self, s):\n",
        "\n",
        "        roman = {\n",
        "                    'I' : 1,\n",
        "                    'V' : 5,\n",
        "                    'X' : 10,\n",
        "                    'L' : 50,\n",
        "                    'C' : 100,\n",
        "                    'D' : 500,\n",
        "                    'M' : 1000,\n",
        "                }\n",
        "\n",
        "        total = 0\n",
        "\n",
        "        for i in range(len(s) - 1):\n",
        "\n",
        "            if roman[s[i]] < roman[s[i+1]]:\n",
        "                total -= roman[s[i]]\n",
        "\n",
        "            else:\n",
        "                total += roman[s[i]]\n",
        "\n",
        "        return total + roman[s[-1]]"
      ]
    },
    {
      "cell_type": "markdown",
      "source": [
        "**Adım adım bir örnekten gösterim:**\n",
        "* **MCMXIV** girilmiş olsun.\n",
        "* i = 6 - 1'den 5. 0 - 4 arasında olacak yani\n",
        "* M(0) - C(1) - M(2) - X(3) - I(4) - V(5)\n",
        "* total = 0\n",
        "\n",
        "* i = 0 iken 1000 < 100 kosulu var yanlış bir koşul else kod blogundan total = 1000 olur.\n",
        "\n",
        "* i = 1 iken 100 < 1000 koşulu var doğru bir koşul if blogundan total - 100 olur yani total = 900\n",
        "\n",
        "* i = 2 iken 1000 < 10 koşulu var yanlış koşul else kod blogundan total + 1000 olur total 1900 olur.\n",
        "\n",
        "* i = 3 iken 10 < 1 koşulu var yanlış bir koşul bu yüzden total + 10 = 1910\n",
        "\n",
        "* i = 4 iken 1 < 5 koşulu var doğru if blogundan total - 1 = 1909\n",
        "\n",
        "* artık i = 4 oldu ve döngü bitti. return satırında da son sayıyı total'in üstüne ekliyoruz total + V yani 1909 + 5 = 1914\n",
        "\n",
        "\n"
      ],
      "metadata": {
        "id": "TbM-t_RTC5QI"
      }
    },
    {
      "cell_type": "code",
      "source": [],
      "metadata": {
        "id": "DQ1xo2GuC4Yk"
      },
      "execution_count": null,
      "outputs": []
    }
  ]
}